{
 "cells": [
  {
   "cell_type": "code",
   "execution_count": 2,
   "id": "8b06e825-005f-4477-ae55-32bb2385c360",
   "metadata": {},
   "outputs": [],
   "source": [
    "#import libraries\n",
    "import pandas as pd\n",
    "import numpy as np\n",
    "from pathlib import Path"
   ]
  },
  {
   "cell_type": "code",
   "execution_count": 43,
   "id": "5337e413-1e2f-4aba-a414-f0dd39f3a9e0",
   "metadata": {},
   "outputs": [
    {
     "data": {
      "text/html": [
       "<div>\n",
       "<style scoped>\n",
       "    .dataframe tbody tr th:only-of-type {\n",
       "        vertical-align: middle;\n",
       "    }\n",
       "\n",
       "    .dataframe tbody tr th {\n",
       "        vertical-align: top;\n",
       "    }\n",
       "\n",
       "    .dataframe thead th {\n",
       "        text-align: right;\n",
       "    }\n",
       "</style>\n",
       "<table border=\"1\" class=\"dataframe\">\n",
       "  <thead>\n",
       "    <tr style=\"text-align: right;\">\n",
       "      <th></th>\n",
       "      <th>Date</th>\n",
       "      <th>Profit/Losses</th>\n",
       "    </tr>\n",
       "  </thead>\n",
       "  <tbody>\n",
       "    <tr>\n",
       "      <th>0</th>\n",
       "      <td>Jan-2010</td>\n",
       "      <td>867884</td>\n",
       "    </tr>\n",
       "    <tr>\n",
       "      <th>1</th>\n",
       "      <td>Feb-2010</td>\n",
       "      <td>984655</td>\n",
       "    </tr>\n",
       "    <tr>\n",
       "      <th>2</th>\n",
       "      <td>Mar-2010</td>\n",
       "      <td>322013</td>\n",
       "    </tr>\n",
       "    <tr>\n",
       "      <th>3</th>\n",
       "      <td>Apr-2010</td>\n",
       "      <td>-69417</td>\n",
       "    </tr>\n",
       "    <tr>\n",
       "      <th>4</th>\n",
       "      <td>May-2010</td>\n",
       "      <td>310503</td>\n",
       "    </tr>\n",
       "    <tr>\n",
       "      <th>5</th>\n",
       "      <td>Jun-2010</td>\n",
       "      <td>522857</td>\n",
       "    </tr>\n",
       "    <tr>\n",
       "      <th>6</th>\n",
       "      <td>Jul-2010</td>\n",
       "      <td>1033096</td>\n",
       "    </tr>\n",
       "    <tr>\n",
       "      <th>7</th>\n",
       "      <td>Aug-2010</td>\n",
       "      <td>604885</td>\n",
       "    </tr>\n",
       "    <tr>\n",
       "      <th>8</th>\n",
       "      <td>Sep-2010</td>\n",
       "      <td>-216386</td>\n",
       "    </tr>\n",
       "    <tr>\n",
       "      <th>9</th>\n",
       "      <td>Oct-2010</td>\n",
       "      <td>477532</td>\n",
       "    </tr>\n",
       "  </tbody>\n",
       "</table>\n",
       "</div>"
      ],
      "text/plain": [
       "       Date  Profit/Losses\n",
       "0  Jan-2010         867884\n",
       "1  Feb-2010         984655\n",
       "2  Mar-2010         322013\n",
       "3  Apr-2010         -69417\n",
       "4  May-2010         310503\n",
       "5  Jun-2010         522857\n",
       "6  Jul-2010        1033096\n",
       "7  Aug-2010         604885\n",
       "8  Sep-2010        -216386\n",
       "9  Oct-2010         477532"
      ]
     },
     "execution_count": 43,
     "metadata": {},
     "output_type": "execute_result"
    }
   ],
   "source": [
    "#import csv file and define it\n",
    "\n",
    "file_path = Path(\"PyBank/budget_data.csv\")\n",
    "\n",
    "budget_df = pd.read_csv(file_path)\n",
    "budget_df.head(10)"
   ]
  },
  {
   "cell_type": "code",
   "execution_count": 33,
   "id": "85cfad90-ec23-48f5-89d6-2470f3dfbaf1",
   "metadata": {},
   "outputs": [],
   "source": [
    "#create a dictionary with the dates\n",
    "dates = budget_df['Date']\n",
    "pnl = budget_df['Profit/Losses']\n",
    "total_info = dict(zip(dates, pnl))"
   ]
  },
  {
   "cell_type": "code",
   "execution_count": 26,
   "id": "b0176a7c-5095-4ccb-94b4-0c863f2adb3e",
   "metadata": {},
   "outputs": [],
   "source": [
    "#define variables\n",
    "total_months = 0\n",
    "net_total = 0\n",
    "average = 0\n",
    "greatest_inc = 0\n",
    "greatest_dec = 0\n",
    "inc_date = []\n",
    "dec_date = []"
   ]
  },
  {
   "cell_type": "code",
   "execution_count": 83,
   "id": "9d2f3099-84a3-4062-a44a-9368dda4e967",
   "metadata": {},
   "outputs": [
    {
     "name": "stdout",
     "output_type": "stream",
     "text": [
      "25    Feb-2012\n",
      "Name: Date, dtype: object\n",
      "44    Sep-2013\n",
      "Name: Date, dtype: object\n"
     ]
    }
   ],
   "source": [
    "#set values for variables\n",
    "total_months = len(pnl)\n",
    "\n",
    "#net_total\n",
    "net_total = budget_df[\"Profit/Losses\"].sum()\n",
    "\n",
    "#changes in pnl\n",
    "budget_df[\"Profit/Losses\"].sum()\n",
    "budget_df['PnL_changes']=budget_df[\"Profit/Losses\"]- budget_df[\"Profit/Losses\"].shift()\n",
    "\n",
    "avg_pnl=round(budget_df[\"PnL_changes\"].mean(),2)\n",
    "\n",
    "greatest_inc = budget_df[\"PnL_changes\"].max()\n",
    "greatest_dec = budget_df[\"PnL_changes\"].min()\n",
    "\n",
    "inc_date=(budget_df.loc[budget_df[\"PnL_changes\"] == budget_df[\"PnL_changes\"].max(),'Date'])\n",
    "dec_date=(budget_df.loc[budget_df[\"PnL_changes\"] == budget_df[\"PnL_changes\"].min(),'Date'])\n",
    "\n",
    "print(inc_date)\n",
    "print(dec_date)"
   ]
  },
  {
   "cell_type": "code",
   "execution_count": 80,
   "id": "edaa2ad9-9c71-430a-9e20-a8ca4e13228a",
   "metadata": {},
   "outputs": [],
   "source": [
    "# set output file name\n",
    "output_path = 'output.txt'\n",
    "\n",
    "# ppen the output path as a file object\n",
    "with open(output_path, 'w') as file:\n",
    "    # Write daily_average to the output file, convert to string\n",
    "    file.write(f\"Financial Analysis\\n\")\n",
    "    file.write(f\"-------------------------------\")\n",
    "    file.write(f\"Total Months: {total_months}\")\n",
    "    file.write(f\"Total:$ {net_total}\")\n",
    "    file.write(f\"Average Change: ${avg_pnl}\")\n",
    "    file.write(f\"Greatest Increase in Profits: Feb-2012 (${greatest_inc})\")\n",
    "    file.write(f\"Greatest Decrease in Profits: Sep-2013 (${greatest_dec})\")"
   ]
  },
  {
   "cell_type": "code",
   "execution_count": 67,
   "id": "8f491557-4fed-4342-8c41-314773f7b0f6",
   "metadata": {},
   "outputs": [],
   "source": [
    "#Financial Analysis Results"
   ]
  },
  {
   "cell_type": "code",
   "execution_count": 84,
   "id": "16a257e5-1db9-4aa7-8157-823ffdfbad77",
   "metadata": {},
   "outputs": [
    {
     "name": "stdout",
     "output_type": "stream",
     "text": [
      "Total Months: 86\n",
      "Total:$38382578\n",
      "Average Change: $-2315.12\n",
      "Greatest Increase in Profits: Feb-2012 ($1926159.0)\n",
      "Greatest Decrease in Profits: Sep-2013 ($-2196167.0)\n"
     ]
    }
   ],
   "source": [
    "print(f\"Total Months: {total_months}\")\n",
    "print(f\"Total:${net_total}\")\n",
    "print(f\"Average Change: ${avg_pnl}\")\n",
    "print(f\"Greatest Increase in Profits: Feb-2012 (${greatest_inc})\")\n",
    "print(f\"Greatest Decrease in Profits: Sep-2013 (${greatest_dec})\")"
   ]
  },
  {
   "cell_type": "code",
   "execution_count": null,
   "id": "02b377e3-52a7-4d7a-ae3b-140221f2345c",
   "metadata": {},
   "outputs": [],
   "source": []
  }
 ],
 "metadata": {
  "kernelspec": {
   "display_name": "Python 3 (ipykernel)",
   "language": "python",
   "name": "python3"
  },
  "language_info": {
   "codemirror_mode": {
    "name": "ipython",
    "version": 3
   },
   "file_extension": ".py",
   "mimetype": "text/x-python",
   "name": "python",
   "nbconvert_exporter": "python",
   "pygments_lexer": "ipython3",
   "version": "3.7.11"
  }
 },
 "nbformat": 4,
 "nbformat_minor": 5
}
